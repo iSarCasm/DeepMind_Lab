{
 "cells": [
  {
   "cell_type": "code",
   "execution_count": 85,
   "metadata": {},
   "outputs": [
    {
     "name": "stdout",
     "output_type": "stream",
     "text": [
      "The autoreload extension is already loaded. To reload it, use:\n",
      "  %reload_ext autoreload\n"
     ]
    }
   ],
   "source": [
    "%load_ext autoreload\n",
    "%autoreload 2\n",
    "\n",
    "from IPython.display import HTML, display\n",
    "import tabulate\n",
    "\n",
    "from minimax_agent import MinimaxAgent\n",
    "from random_agent import RandomAgent\n",
    "\n",
    "import game\n",
    "from state_generator import StateGenerator\n",
    "\n",
    "agents = [\n",
    "#     [ 'Random', lambda player : RandomAgent(player)],\n",
    "    [ 'Minimax (1 ply)', lambda player : MinimaxAgent(player, ply=1)],\n",
    "    [ 'Minimax (2 ply)', lambda player : MinimaxAgent(player, ply=2)],\n",
    "    [ 'Minimax (3 ply)', lambda player : MinimaxAgent(player, ply=3)],\n",
    "#     [ 'Minimax (4 ply)', lambda player : MinimaxAgent(player, ply=4)]\n",
    "]\n",
    "\n",
    "GAMES = 10\n",
    "SIZE = 7"
   ]
  },
  {
   "cell_type": "code",
   "execution_count": null,
   "metadata": {},
   "outputs": [
    {
     "name": "stdout",
     "output_type": "stream",
     "text": [
      "Game 0 Minimax (1 ply) vs Minimax (2 ply) finished\n",
      "Game 1 Minimax (1 ply) vs Minimax (2 ply) finished\n",
      "Game 2 Minimax (1 ply) vs Minimax (2 ply) finished\n",
      "Game 3 Minimax (1 ply) vs Minimax (2 ply) finished\n",
      "Game 4 Minimax (1 ply) vs Minimax (2 ply) finished\n",
      "Game 5 Minimax (1 ply) vs Minimax (2 ply) finished\n",
      "Game 6 Minimax (1 ply) vs Minimax (2 ply) finished\n",
      "Game 7 Minimax (1 ply) vs Minimax (2 ply) finished\n",
      "Game 8 Minimax (1 ply) vs Minimax (2 ply) finished\n",
      "Game 9 Minimax (1 ply) vs Minimax (2 ply) finished\n",
      "Game 0 Minimax (1 ply) vs Minimax (3 ply) finished\n",
      "Game 1 Minimax (1 ply) vs Minimax (3 ply) finished\n",
      "Game 2 Minimax (1 ply) vs Minimax (3 ply) finished\n",
      "Game 3 Minimax (1 ply) vs Minimax (3 ply) finished\n",
      "Game 4 Minimax (1 ply) vs Minimax (3 ply) finished\n",
      "Game 5 Minimax (1 ply) vs Minimax (3 ply) finished\n",
      "Game 6 Minimax (1 ply) vs Minimax (3 ply) finished\n",
      "Game 7 Minimax (1 ply) vs Minimax (3 ply) finished\n",
      "Game 8 Minimax (1 ply) vs Minimax (3 ply) finished\n",
      "Game 9 Minimax (1 ply) vs Minimax (3 ply) finished\n",
      "Game 0 Minimax (2 ply) vs Minimax (3 ply) finished\n",
      "Game 1 Minimax (2 ply) vs Minimax (3 ply) finished\n",
      "Game 2 Minimax (2 ply) vs Minimax (3 ply) finished\n",
      "Game 3 Minimax (2 ply) vs Minimax (3 ply) finished\n",
      "Game 4 Minimax (2 ply) vs Minimax (3 ply) finished\n",
      "Game 5 Minimax (2 ply) vs Minimax (3 ply) finished\n",
      "Game 6 Minimax (2 ply) vs Minimax (3 ply) finished\n",
      "Game 7 Minimax (2 ply) vs Minimax (3 ply) finished\n",
      "Game 8 Minimax (2 ply) vs Minimax (3 ply) finished\n"
     ]
    }
   ],
   "source": [
    "stats = dict()\n",
    "for a1 in range(len(agents)):\n",
    "    for a2 in range(a1+1, len(agents)):\n",
    "        result = 0\n",
    "        for g in range(GAMES):\n",
    "            ag1 = agents[a1]\n",
    "            ag2 = agents[a2]\n",
    "            pl1 = ag1[1](1)\n",
    "            pl2 = ag2[1](2)\n",
    "            state = StateGenerator.generate(size = SIZE)\n",
    "            results = game.play_game(state, pl1, pl2, debug=False)\n",
    "            print(\"Game {} {} vs {} finished\".format(g, ag1[0], ag2[0]))\n",
    "#             print(results)\n",
    "            if results['winner'] == 1:\n",
    "                result += 1\n",
    "        result /= GAMES\n",
    "        stats[(ag1[0], ag2[0])] = result\n",
    "\n",
    "stats"
   ]
  },
  {
   "cell_type": "code",
   "execution_count": null,
   "metadata": {},
   "outputs": [],
   "source": [
    "table = [[' ']]\n",
    "for a in agents:\n",
    "    table[0].append(a[0])\n",
    "\n",
    "\n",
    "for a1 in agents:\n",
    "    table.append([ a1[0] ])\n",
    "    for a2 in agents:\n",
    "        result = 0\n",
    "        if a1 == a2:\n",
    "            result = '-'\n",
    "        else:\n",
    "            if (a1[0], a2[0]) in stats:\n",
    "                result = str(round(stats[(a1[0], a2[0])], 4) * 100) + '%'\n",
    "            elif (a2[0], a1[0]) in stats:\n",
    "                result = str(round(1 - stats[(a2[0], a1[0])], 4) * 100) + '%'\n",
    "                \n",
    "        table[-1].append(result)\n",
    "\n",
    "print(\"For Size = {}\".format(SIZE))\n",
    "display(HTML(tabulate.tabulate(table, tablefmt='html')))"
   ]
  },
  {
   "cell_type": "code",
   "execution_count": null,
   "metadata": {},
   "outputs": [],
   "source": []
  },
  {
   "cell_type": "code",
   "execution_count": null,
   "metadata": {},
   "outputs": [],
   "source": []
  }
 ],
 "metadata": {
  "kernelspec": {
   "display_name": "Python 3",
   "language": "python",
   "name": "python3"
  },
  "language_info": {
   "codemirror_mode": {
    "name": "ipython",
    "version": 3
   },
   "file_extension": ".py",
   "mimetype": "text/x-python",
   "name": "python",
   "nbconvert_exporter": "python",
   "pygments_lexer": "ipython3",
   "version": "3.5.2"
  }
 },
 "nbformat": 4,
 "nbformat_minor": 2
}
