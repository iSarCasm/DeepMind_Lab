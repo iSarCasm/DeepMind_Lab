{
 "cells": [
  {
   "cell_type": "code",
   "execution_count": 55,
   "metadata": {},
   "outputs": [
    {
     "name": "stdout",
     "output_type": "stream",
     "text": [
      "The autoreload extension is already loaded. To reload it, use:\n",
      "  %reload_ext autoreload\n"
     ]
    }
   ],
   "source": [
    "%load_ext autoreload\n",
    "%autoreload 2\n",
    "\n",
    "from IPython.display import HTML, display\n",
    "import tabulate\n",
    "\n",
    "from minimax_agent import MinimaxAgent\n",
    "from random_agent import RandomAgent\n",
    "from ab_agent import AbAgent\n",
    "\n",
    "import game\n",
    "from state_generator import StateGenerator\n",
    "\n",
    "agents = [\n",
    "#     [ 'Random', lambda player : RandomAgent(player)],\n",
    "    [ 'Minimax (1 ply)', lambda player : MinimaxAgent(player, ply=1)],\n",
    "    [ 'Minimax (2 ply)', lambda player : MinimaxAgent(player, ply=2)],\n",
    "#     [ 'Minimax (3 ply)', lambda player : MinimaxAgent(player, ply=3)],\n",
    "#     [ 'Minimax (4 ply)', lambda player : MinimaxAgent(player, ply=4)],\n",
    "#     [ 'AB (1 ply)', lambda player : AbAgent(player, ply=1)],\n",
    "#     [ 'AB (2 ply)', lambda player : AbAgent(player, ply=2)],\n",
    "    [ 'AB (3 ply)', lambda player : AbAgent(player, ply=3)],\n",
    "#     [ 'AB (4 ply)', lambda player : AbAgent(player, ply=4)]\n",
    "]\n",
    "\n",
    "GAMES = 20\n",
    "SIZE = 8"
   ]
  },
  {
   "cell_type": "code",
   "execution_count": 56,
   "metadata": {},
   "outputs": [
    {
     "name": "stdout",
     "output_type": "stream",
     "text": [
      "Game 0 Minimax (1 ply) vs Minimax (2 ply) finished\n",
      "Game 1 Minimax (1 ply) vs Minimax (2 ply) finished\n",
      "Game 2 Minimax (1 ply) vs Minimax (2 ply) finished\n",
      "Game 3 Minimax (1 ply) vs Minimax (2 ply) finished\n",
      "Game 4 Minimax (1 ply) vs Minimax (2 ply) finished\n",
      "Game 5 Minimax (1 ply) vs Minimax (2 ply) finished\n",
      "Game 6 Minimax (1 ply) vs Minimax (2 ply) finished\n",
      "Game 7 Minimax (1 ply) vs Minimax (2 ply) finished\n",
      "Game 8 Minimax (1 ply) vs Minimax (2 ply) finished\n",
      "Game 9 Minimax (1 ply) vs Minimax (2 ply) finished\n",
      "Game 10 Minimax (1 ply) vs Minimax (2 ply) finished\n",
      "Game 11 Minimax (1 ply) vs Minimax (2 ply) finished\n",
      "Game 12 Minimax (1 ply) vs Minimax (2 ply) finished\n",
      "Game 13 Minimax (1 ply) vs Minimax (2 ply) finished\n",
      "Game 14 Minimax (1 ply) vs Minimax (2 ply) finished\n",
      "Game 15 Minimax (1 ply) vs Minimax (2 ply) finished\n",
      "Game 16 Minimax (1 ply) vs Minimax (2 ply) finished\n",
      "Game 17 Minimax (1 ply) vs Minimax (2 ply) finished\n",
      "Game 18 Minimax (1 ply) vs Minimax (2 ply) finished\n",
      "Game 19 Minimax (1 ply) vs Minimax (2 ply) finished\n",
      "Game 0 Minimax (1 ply) vs AB (3 ply) finished\n",
      "Game 1 Minimax (1 ply) vs AB (3 ply) finished\n",
      "Game 2 Minimax (1 ply) vs AB (3 ply) finished\n",
      "Game 3 Minimax (1 ply) vs AB (3 ply) finished\n",
      "Game 4 Minimax (1 ply) vs AB (3 ply) finished\n",
      "Game 5 Minimax (1 ply) vs AB (3 ply) finished\n",
      "Game 6 Minimax (1 ply) vs AB (3 ply) finished\n",
      "Game 7 Minimax (1 ply) vs AB (3 ply) finished\n",
      "Game 8 Minimax (1 ply) vs AB (3 ply) finished\n",
      "Game 9 Minimax (1 ply) vs AB (3 ply) finished\n",
      "Game 10 Minimax (1 ply) vs AB (3 ply) finished\n",
      "Game 11 Minimax (1 ply) vs AB (3 ply) finished\n",
      "Game 12 Minimax (1 ply) vs AB (3 ply) finished\n",
      "Game 13 Minimax (1 ply) vs AB (3 ply) finished\n",
      "Game 14 Minimax (1 ply) vs AB (3 ply) finished\n",
      "Game 15 Minimax (1 ply) vs AB (3 ply) finished\n",
      "Game 16 Minimax (1 ply) vs AB (3 ply) finished\n",
      "Game 17 Minimax (1 ply) vs AB (3 ply) finished\n",
      "Game 18 Minimax (1 ply) vs AB (3 ply) finished\n",
      "Game 19 Minimax (1 ply) vs AB (3 ply) finished\n"
     ]
    },
    {
     "ename": "TypeError",
     "evalue": "'NoneType' object is not subscriptable",
     "output_type": "error",
     "traceback": [
      "\u001b[0;31m---------------------------------------------------------------------------\u001b[0m",
      "\u001b[0;31mTypeError\u001b[0m                                 Traceback (most recent call last)",
      "\u001b[0;32m<ipython-input-56-6817e19f9278>\u001b[0m in \u001b[0;36m<module>\u001b[0;34m()\u001b[0m\n\u001b[1;32m      9\u001b[0m             \u001b[0mpl2\u001b[0m \u001b[0;34m=\u001b[0m \u001b[0mag2\u001b[0m\u001b[0;34m[\u001b[0m\u001b[0;36m1\u001b[0m\u001b[0;34m]\u001b[0m\u001b[0;34m(\u001b[0m\u001b[0;36m2\u001b[0m\u001b[0;34m)\u001b[0m\u001b[0;34m\u001b[0m\u001b[0m\n\u001b[1;32m     10\u001b[0m             \u001b[0mstate\u001b[0m \u001b[0;34m=\u001b[0m \u001b[0mStateGenerator\u001b[0m\u001b[0;34m.\u001b[0m\u001b[0mgenerate\u001b[0m\u001b[0;34m(\u001b[0m\u001b[0msize\u001b[0m \u001b[0;34m=\u001b[0m \u001b[0mSIZE\u001b[0m\u001b[0;34m)\u001b[0m\u001b[0;34m\u001b[0m\u001b[0m\n\u001b[0;32m---> 11\u001b[0;31m             \u001b[0mresults\u001b[0m \u001b[0;34m=\u001b[0m \u001b[0mgame\u001b[0m\u001b[0;34m.\u001b[0m\u001b[0mplay_game\u001b[0m\u001b[0;34m(\u001b[0m\u001b[0mstate\u001b[0m\u001b[0;34m,\u001b[0m \u001b[0mpl1\u001b[0m\u001b[0;34m,\u001b[0m \u001b[0mpl2\u001b[0m\u001b[0;34m,\u001b[0m \u001b[0mdebug\u001b[0m\u001b[0;34m=\u001b[0m\u001b[0;32mFalse\u001b[0m\u001b[0;34m)\u001b[0m\u001b[0;34m\u001b[0m\u001b[0m\n\u001b[0m\u001b[1;32m     12\u001b[0m             \u001b[0mprint\u001b[0m\u001b[0;34m(\u001b[0m\u001b[0;34m\"Game {} {} vs {} finished\"\u001b[0m\u001b[0;34m.\u001b[0m\u001b[0mformat\u001b[0m\u001b[0;34m(\u001b[0m\u001b[0mg\u001b[0m\u001b[0;34m,\u001b[0m \u001b[0mag1\u001b[0m\u001b[0;34m[\u001b[0m\u001b[0;36m0\u001b[0m\u001b[0;34m]\u001b[0m\u001b[0;34m,\u001b[0m \u001b[0mag2\u001b[0m\u001b[0;34m[\u001b[0m\u001b[0;36m0\u001b[0m\u001b[0;34m]\u001b[0m\u001b[0;34m)\u001b[0m\u001b[0;34m)\u001b[0m\u001b[0;34m\u001b[0m\u001b[0m\n\u001b[1;32m     13\u001b[0m \u001b[0;31m#             print(results)\u001b[0m\u001b[0;34m\u001b[0m\u001b[0;34m\u001b[0m\u001b[0m\n",
      "\u001b[0;32m~/study/hexgame/game.py\u001b[0m in \u001b[0;36mplay_game\u001b[0;34m(state, agent1, agent2, debug)\u001b[0m\n\u001b[1;32m     12\u001b[0m             \u001b[0mmove\u001b[0m \u001b[0;34m=\u001b[0m \u001b[0magent2\u001b[0m\u001b[0;34m.\u001b[0m\u001b[0mselect_move\u001b[0m\u001b[0;34m(\u001b[0m\u001b[0mstate\u001b[0m\u001b[0;34m,\u001b[0m \u001b[0mdebug\u001b[0m\u001b[0;34m=\u001b[0m\u001b[0mdebug\u001b[0m\u001b[0;34m)\u001b[0m\u001b[0;34m\u001b[0m\u001b[0m\n\u001b[1;32m     13\u001b[0m \u001b[0;34m\u001b[0m\u001b[0m\n\u001b[0;32m---> 14\u001b[0;31m         \u001b[0mstate\u001b[0m \u001b[0;34m=\u001b[0m \u001b[0menv\u001b[0m\u001b[0;34m.\u001b[0m\u001b[0mapply_move\u001b[0m\u001b[0;34m(\u001b[0m\u001b[0mmove\u001b[0m\u001b[0;34m,\u001b[0m \u001b[0mstate\u001b[0m\u001b[0;34m)\u001b[0m\u001b[0;34m\u001b[0m\u001b[0m\n\u001b[0m\u001b[1;32m     15\u001b[0m         \u001b[0;32mif\u001b[0m \u001b[0mdebug\u001b[0m\u001b[0;34m:\u001b[0m\u001b[0;34m\u001b[0m\u001b[0m\n\u001b[1;32m     16\u001b[0m             \u001b[0mprint\u001b[0m\u001b[0;34m(\u001b[0m\u001b[0menv\u001b[0m\u001b[0;34m.\u001b[0m\u001b[0mis_done\u001b[0m\u001b[0;34m(\u001b[0m\u001b[0mstate\u001b[0m\u001b[0;34m)\u001b[0m\u001b[0;34m)\u001b[0m\u001b[0;34m\u001b[0m\u001b[0m\n",
      "\u001b[0;32m~/study/hexgame/env.py\u001b[0m in \u001b[0;36mapply_move\u001b[0;34m(move, state)\u001b[0m\n\u001b[1;32m     35\u001b[0m     \u001b[0mboard\u001b[0m \u001b[0;34m=\u001b[0m \u001b[0mnew_state\u001b[0m\u001b[0;34m[\u001b[0m\u001b[0;34m'board'\u001b[0m\u001b[0;34m]\u001b[0m\u001b[0;34m\u001b[0m\u001b[0m\n\u001b[1;32m     36\u001b[0m     \u001b[0msize\u001b[0m \u001b[0;34m=\u001b[0m \u001b[0mlen\u001b[0m\u001b[0;34m(\u001b[0m\u001b[0mboard\u001b[0m\u001b[0;34m)\u001b[0m\u001b[0;34m\u001b[0m\u001b[0m\n\u001b[0;32m---> 37\u001b[0;31m     \u001b[0mplayer\u001b[0m \u001b[0;34m=\u001b[0m \u001b[0mmove\u001b[0m\u001b[0;34m[\u001b[0m\u001b[0;34m'player'\u001b[0m\u001b[0;34m]\u001b[0m\u001b[0;34m\u001b[0m\u001b[0m\n\u001b[0m\u001b[1;32m     38\u001b[0m     \u001b[0mopponent\u001b[0m \u001b[0;34m=\u001b[0m \u001b[0;36m1\u001b[0m \u001b[0;32mif\u001b[0m \u001b[0mplayer\u001b[0m \u001b[0;34m==\u001b[0m \u001b[0;36m2\u001b[0m \u001b[0;32melse\u001b[0m \u001b[0;36m2\u001b[0m\u001b[0;34m\u001b[0m\u001b[0m\n\u001b[1;32m     39\u001b[0m \u001b[0;34m\u001b[0m\u001b[0m\n",
      "\u001b[0;31mTypeError\u001b[0m: 'NoneType' object is not subscriptable"
     ]
    }
   ],
   "source": [
    "stats = dict()\n",
    "for a1 in range(len(agents)):\n",
    "    for a2 in range(a1+1, len(agents)):\n",
    "        result = 0\n",
    "        for g in range(GAMES):\n",
    "            ag1 = agents[a1]\n",
    "            ag2 = agents[a2]\n",
    "            pl1 = ag1[1](1)\n",
    "            pl2 = ag2[1](2)\n",
    "            state = StateGenerator.generate(size = SIZE)\n",
    "            results = game.play_game(state, pl1, pl2, debug=False)\n",
    "            print(\"Game {} {} vs {} finished\".format(g, ag1[0], ag2[0]))\n",
    "#             print(results)\n",
    "            if results['winner'] == 1:\n",
    "                result += 1\n",
    "        result /= GAMES\n",
    "        stats[(ag1[0], ag2[0])] = result\n",
    "\n",
    "stats"
   ]
  },
  {
   "cell_type": "code",
   "execution_count": null,
   "metadata": {},
   "outputs": [],
   "source": [
    "table = [[' ']]\n",
    "for a in agents:\n",
    "    table[0].append(a[0])\n",
    "\n",
    "\n",
    "for a1 in agents:\n",
    "    table.append([ a1[0] ])\n",
    "    for a2 in agents:\n",
    "        result = 0\n",
    "        if a1 == a2:\n",
    "            result = '-'\n",
    "        else:\n",
    "            if (a1[0], a2[0]) in stats:\n",
    "                result = str(round(stats[(a1[0], a2[0])], 4) * 100) + '%'\n",
    "            elif (a2[0], a1[0]) in stats:\n",
    "                result = str(round(1 - stats[(a2[0], a1[0])], 4) * 100) + '%'\n",
    "                \n",
    "        table[-1].append(result)\n",
    "\n",
    "print(\"For Size = {}\".format(SIZE))\n",
    "display(HTML(tabulate.tabulate(table, tablefmt='html')))"
   ]
  },
  {
   "cell_type": "code",
   "execution_count": null,
   "metadata": {},
   "outputs": [],
   "source": []
  },
  {
   "cell_type": "code",
   "execution_count": null,
   "metadata": {},
   "outputs": [],
   "source": []
  }
 ],
 "metadata": {
  "kernelspec": {
   "display_name": "Python 3",
   "language": "python",
   "name": "python3"
  },
  "language_info": {
   "codemirror_mode": {
    "name": "ipython",
    "version": 3
   },
   "file_extension": ".py",
   "mimetype": "text/x-python",
   "name": "python",
   "nbconvert_exporter": "python",
   "pygments_lexer": "ipython3",
   "version": "3.5.2"
  }
 },
 "nbformat": 4,
 "nbformat_minor": 2
}
